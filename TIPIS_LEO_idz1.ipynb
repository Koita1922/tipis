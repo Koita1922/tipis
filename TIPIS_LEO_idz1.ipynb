{
 "cells": [
  {
   "cell_type": "code",
   "execution_count": 206,
   "id": "6d72a111-7d9a-4eb0-82c0-d9c0b1cca209",
   "metadata": {},
   "outputs": [],
   "source": [
    "import pandas as pd\n",
    "import numpy as np"
   ]
  },
  {
   "cell_type": "code",
   "execution_count": 207,
   "id": "afea2685-2e0f-4aea-abf8-8085f3a955f6",
   "metadata": {},
   "outputs": [
    {
     "data": {
      "text/plain": [
       "age                int64\n",
       "workclass         object\n",
       "fnlwgt             int64\n",
       "education         object\n",
       "education-num      int64\n",
       "marital-status    object\n",
       "occupation        object\n",
       "relationship      object\n",
       "race              object\n",
       "sex               object\n",
       "capital-gain       int64\n",
       "capital-loss       int64\n",
       "hours-per-week     int64\n",
       "native-country    object\n",
       "income            object\n",
       "dtype: object"
      ]
     },
     "execution_count": 207,
     "metadata": {},
     "output_type": "execute_result"
    }
   ],
   "source": [
    "df = pd.read_csv('adult.data', header=None)\n",
    "df.columns = ['age', 'workclass', 'fnlwgt', 'education', 'education-num',\n",
    "              'marital-status', 'occupation', 'relationship', 'race', 'sex',\n",
    "              'capital-gain', 'capital-loss', 'hours-per-week', 'native-country', 'income']\n",
    "df.dtypes"
   ]
  },
  {
   "cell_type": "code",
   "execution_count": 208,
   "id": "eca40bb1-8f11-489a-a04f-1ffb5f2256af",
   "metadata": {},
   "outputs": [],
   "source": [
    "df.replace({' ?': None}, inplace = True)"
   ]
  },
  {
   "cell_type": "markdown",
   "id": "425867a1-350b-4cf4-ba69-960f0326acdc",
   "metadata": {},
   "source": [
    "1. Количество столбцов"
   ]
  },
  {
   "cell_type": "code",
   "execution_count": 209,
   "id": "3e5fb537-6fc8-4629-9be9-47e80cdb2b17",
   "metadata": {},
   "outputs": [],
   "source": [
    "columns = df.shape[1]"
   ]
  },
  {
   "cell_type": "markdown",
   "id": "e35105c5-661d-4f1b-974a-389117707afd",
   "metadata": {},
   "source": [
    "2. Есть ли пропуски? В каких столбцах"
   ]
  },
  {
   "cell_type": "code",
   "execution_count": 210,
   "id": "206a1489-8598-40de-b68f-a9c112ef1b50",
   "metadata": {},
   "outputs": [],
   "source": [
    "missing = df.isnull().sum()"
   ]
  },
  {
   "cell_type": "markdown",
   "id": "c95c48b2-2dd8-46a4-9980-19f1d8e8f58b",
   "metadata": {},
   "source": [
    "3. Кол-во уникальных значений в столбце race"
   ]
  },
  {
   "cell_type": "code",
   "execution_count": 211,
   "id": "368db044-0777-47c4-b111-764cc4c186f8",
   "metadata": {},
   "outputs": [],
   "source": [
    "unique_races = df['race'].nunique()"
   ]
  },
  {
   "cell_type": "markdown",
   "id": "ffa819ee-174c-44aa-94b5-fc29354b0dbb",
   "metadata": {},
   "source": [
    "4. Медиана hours-per-week"
   ]
  },
  {
   "cell_type": "code",
   "execution_count": 212,
   "id": "71d92646-ed83-4f30-a1b3-984f86686ca4",
   "metadata": {},
   "outputs": [],
   "source": [
    "median_hours = df['hours-per-week'].median()"
   ]
  },
  {
   "cell_type": "markdown",
   "id": "68a847d5-3f7c-4bbf-8d14-36c8460790ae",
   "metadata": {},
   "source": [
    "5. Кого больше - женщин или мужчин с ЗП >50K? (Подсчет женщин и мужчин с зп больше 50К)"
   ]
  },
  {
   "cell_type": "code",
   "execution_count": 213,
   "id": "b1dbfc3b-c975-4223-a40c-d0e0a1f6f85a",
   "metadata": {},
   "outputs": [],
   "source": [
    "high_income = df[df['income'] == ' >50K']\n",
    "count_men = high_income[high_income['sex'] == ' Male'].shape[0]\n",
    "count_women = high_income[high_income['sex'] == ' Female'].shape[0]"
   ]
  },
  {
   "cell_type": "markdown",
   "id": "6cf8dfde-df4c-4c9b-a69e-3a04bcb7e180",
   "metadata": {},
   "source": [
    "6. Заполнение пропущенных данных наиболее встречаемыми значениями"
   ]
  },
  {
   "cell_type": "code",
   "execution_count": 214,
   "id": "4d5682da-d048-4111-a5c9-7b0ed93c58cd",
   "metadata": {},
   "outputs": [
    {
     "name": "stdout",
     "output_type": "stream",
     "text": [
      "age               0\n",
      "workclass         0\n",
      "fnlwgt            0\n",
      "education         0\n",
      "education-num     0\n",
      "marital-status    0\n",
      "occupation        0\n",
      "relationship      0\n",
      "race              0\n",
      "sex               0\n",
      "capital-gain      0\n",
      "capital-loss      0\n",
      "hours-per-week    0\n",
      "native-country    0\n",
      "income            0\n",
      "dtype: int64\n"
     ]
    }
   ],
   "source": [
    "for column in df.columns:\n",
    "    if df[column].isnull().sum() > 0:\n",
    "        mode_value = df[column].mode()[0]\n",
    "        df[column] = df[column].fillna(mode_value) \n",
    "print(df.isnull().sum())"
   ]
  },
  {
   "cell_type": "code",
   "execution_count": 215,
   "id": "de53ed3a-588d-46e0-8eb6-910cf5657b9f",
   "metadata": {},
   "outputs": [
    {
     "name": "stdout",
     "output_type": "stream",
     "text": [
      "\t1) столбцов: 15\n",
      "\t2) пропуски в данных:\n",
      " age                  0\n",
      "workclass         1836\n",
      "fnlwgt               0\n",
      "education            0\n",
      "education-num        0\n",
      "marital-status       0\n",
      "occupation        1843\n",
      "relationship         0\n",
      "race                 0\n",
      "sex                  0\n",
      "capital-gain         0\n",
      "capital-loss         0\n",
      "hours-per-week       0\n",
      "native-country     583\n",
      "income               0\n",
      "dtype: int64\n",
      "\t3) уникальных значений в столбце 'race': 5\n",
      "\t4) медиана 'hours-per-week': 40.0\n",
      "\t5) c доходом больше 50К больше мужчин:  6662\n",
      "\t6) для заполнения недостающих данных можно применять такие методы, как мода, медиана, \n",
      "интерполяция, среднее арифметическое, или использовать данные из заранее определенной выборки.\n"
     ]
    }
   ],
   "source": [
    "print(\"\\t1) столбцов:\", columns)\n",
    "print(\"\\t2) пропуски в данных:\\n\", missing)\n",
    "print(\"\\t3) уникальных значений в столбце 'race':\", unique_races)\n",
    "print(\"\\t4) медиана 'hours-per-week':\", median_hours)\n",
    "print(\"\\t5) c доходом больше 50К больше \", end=\"\")\n",
    "print(\"мужчин: \", count_men) if count_men > count_women else print(\"женщин: \", count_women)\n",
    "print(\"\\t6) для заполнения недостающих данных можно применять такие методы, как мода, медиана, \")\n",
    "print(\"интерполяция, среднее арифметическое, или использовать данные из заранее определенной выборки.\")"
   ]
  }
 ],
 "metadata": {
  "kernelspec": {
   "display_name": "Python 3 (ipykernel)",
   "language": "python",
   "name": "python3"
  },
  "language_info": {
   "codemirror_mode": {
    "name": "ipython",
    "version": 3
   },
   "file_extension": ".py",
   "mimetype": "text/x-python",
   "name": "python",
   "nbconvert_exporter": "python",
   "pygments_lexer": "ipython3",
   "version": "3.12.6"
  }
 },
 "nbformat": 4,
 "nbformat_minor": 5
}
